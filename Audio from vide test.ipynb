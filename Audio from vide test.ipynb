{
 "cells": [
  {
   "cell_type": "code",
   "execution_count": 1,
   "id": "17564880",
   "metadata": {},
   "outputs": [
    {
     "name": "stdout",
     "output_type": "stream",
     "text": [
      "Collecting moviepy\n",
      "  Downloading moviepy-1.0.3.tar.gz (388 kB)\n",
      "                                              0.0/388.3 kB ? eta -:--:--\n",
      "     -------------------------              256.0/388.3 kB 7.7 MB/s eta 0:00:01\n",
      "     ------------------------------------- 388.3/388.3 kB 11.8 MB/s eta 0:00:00\n",
      "  Preparing metadata (setup.py): started\n",
      "  Preparing metadata (setup.py): finished with status 'done'\n",
      "Collecting decorator<5.0,>=4.0.2 (from moviepy)\n",
      "  Downloading decorator-4.4.2-py2.py3-none-any.whl (9.2 kB)\n",
      "Requirement already satisfied: tqdm<5.0,>=4.11.2 in c:\\users\\aakri\\appdata\\local\\programs\\python\\python310\\lib\\site-packages (from moviepy) (4.64.1)\n",
      "Requirement already satisfied: requests<3.0,>=2.8.1 in c:\\users\\aakri\\appdata\\local\\programs\\python\\python310\\lib\\site-packages (from moviepy) (2.28.2)\n",
      "Collecting proglog<=1.0.0 (from moviepy)\n",
      "  Downloading proglog-0.1.10-py3-none-any.whl (6.1 kB)\n",
      "Requirement already satisfied: numpy>=1.17.3 in c:\\users\\aakri\\appdata\\local\\programs\\python\\python310\\lib\\site-packages (from moviepy) (1.23.5)\n",
      "Requirement already satisfied: imageio<3.0,>=2.5 in c:\\users\\aakri\\appdata\\roaming\\python\\python310\\site-packages (from moviepy) (2.30.0)\n",
      "Collecting imageio_ffmpeg>=0.2.0 (from moviepy)\n",
      "  Downloading imageio_ffmpeg-0.4.8-py3-none-win_amd64.whl (22.6 MB)\n",
      "                                              0.0/22.6 MB ? eta -:--:--\n",
      "     -                                        0.9/22.6 MB 28.1 MB/s eta 0:00:01\n",
      "     --                                       1.4/22.6 MB 15.4 MB/s eta 0:00:02\n",
      "     ----                                     2.3/22.6 MB 18.6 MB/s eta 0:00:02\n",
      "     -----                                    3.4/22.6 MB 21.5 MB/s eta 0:00:01\n",
      "     -------                                  4.0/22.6 MB 19.8 MB/s eta 0:00:01\n",
      "     ---------                                5.3/22.6 MB 21.1 MB/s eta 0:00:01\n",
      "     -----------                              6.3/22.6 MB 21.4 MB/s eta 0:00:01\n",
      "     -------------                            7.5/22.6 MB 22.9 MB/s eta 0:00:01\n",
      "     --------------                           8.4/22.6 MB 23.2 MB/s eta 0:00:01\n",
      "     -----------------                       10.2/22.6 MB 25.1 MB/s eta 0:00:01\n",
      "     --------------------                    11.6/22.6 MB 27.3 MB/s eta 0:00:01\n",
      "     ----------------------                  12.8/22.6 MB 29.7 MB/s eta 0:00:01\n",
      "     -------------------------               14.7/22.6 MB 32.7 MB/s eta 0:00:01\n",
      "     -----------------------------           17.0/22.6 MB 38.5 MB/s eta 0:00:01\n",
      "     --------------------------------        18.9/22.6 MB 43.7 MB/s eta 0:00:01\n",
      "     ------------------------------------    20.9/22.6 MB 46.7 MB/s eta 0:00:01\n",
      "     --------------------------------------  22.6/22.6 MB 46.7 MB/s eta 0:00:01\n",
      "     --------------------------------------  22.6/22.6 MB 46.7 MB/s eta 0:00:01\n",
      "     --------------------------------------  22.6/22.6 MB 46.7 MB/s eta 0:00:01\n",
      "     --------------------------------------- 22.6/22.6 MB 27.3 MB/s eta 0:00:00\n",
      "Requirement already satisfied: pillow>=8.3.2 in c:\\users\\aakri\\appdata\\local\\programs\\python\\python310\\lib\\site-packages (from imageio<3.0,>=2.5->moviepy) (9.5.0)\n",
      "Requirement already satisfied: charset-normalizer<4,>=2 in c:\\users\\aakri\\appdata\\local\\programs\\python\\python310\\lib\\site-packages (from requests<3.0,>=2.8.1->moviepy) (3.0.1)\n",
      "Requirement already satisfied: idna<4,>=2.5 in c:\\users\\aakri\\appdata\\local\\programs\\python\\python310\\lib\\site-packages (from requests<3.0,>=2.8.1->moviepy) (3.4)\n",
      "Requirement already satisfied: urllib3<1.27,>=1.21.1 in c:\\users\\aakri\\appdata\\local\\programs\\python\\python310\\lib\\site-packages (from requests<3.0,>=2.8.1->moviepy) (1.26.14)\n",
      "Requirement already satisfied: certifi>=2017.4.17 in c:\\users\\aakri\\appdata\\local\\programs\\python\\python310\\lib\\site-packages (from requests<3.0,>=2.8.1->moviepy) (2022.12.7)\n",
      "Requirement already satisfied: colorama in c:\\users\\aakri\\appdata\\local\\programs\\python\\python310\\lib\\site-packages (from tqdm<5.0,>=4.11.2->moviepy) (0.4.6)\n",
      "Building wheels for collected packages: moviepy\n",
      "  Building wheel for moviepy (setup.py): started\n",
      "  Building wheel for moviepy (setup.py): finished with status 'done'\n",
      "  Created wheel for moviepy: filename=moviepy-1.0.3-py3-none-any.whl size=110773 sha256=a2aad586817f48570873113b7b47b8a72480caae4401bcb843ff616d72cb2b91\n",
      "  Stored in directory: c:\\users\\aakri\\appdata\\local\\pip\\cache\\wheels\\96\\32\\2d\\e10123bd88fbfc02fed53cc18c80a171d3c87479ed845fa7c1\n",
      "Successfully built moviepy\n",
      "Installing collected packages: imageio_ffmpeg, decorator, proglog, moviepy\n",
      "  Attempting uninstall: decorator\n",
      "    Found existing installation: decorator 5.1.1\n",
      "    Uninstalling decorator-5.1.1:\n",
      "      Successfully uninstalled decorator-5.1.1\n",
      "Successfully installed decorator-4.4.2 imageio_ffmpeg-0.4.8 moviepy-1.0.3 proglog-0.1.10\n",
      "Note: you may need to restart the kernel to use updated packages.\n"
     ]
    },
    {
     "name": "stderr",
     "output_type": "stream",
     "text": [
      "WARNING: Ignoring invalid distribution -rotobuf (c:\\users\\aakri\\appdata\\local\\programs\\python\\python310\\lib\\site-packages)\n",
      "WARNING: Ignoring invalid distribution -rotobuf (c:\\users\\aakri\\appdata\\local\\programs\\python\\python310\\lib\\site-packages)\n"
     ]
    }
   ],
   "source": [
    "pip install moviepy"
   ]
  },
  {
   "cell_type": "code",
   "execution_count": 2,
   "id": "3eae0b3d",
   "metadata": {},
   "outputs": [],
   "source": [
    "# Import moviepy\n",
    "import moviepy.editor"
   ]
  },
  {
   "cell_type": "code",
   "execution_count": 7,
   "id": "c580cc37",
   "metadata": {},
   "outputs": [],
   "source": [
    "#Load the Video Clip\n",
    "video = moviepy.editor.VideoFileClip(\"348572272_651758420141397_6610904152708185639_n.mp4\")"
   ]
  },
  {
   "cell_type": "code",
   "execution_count": 8,
   "id": "8a213436",
   "metadata": {},
   "outputs": [
    {
     "name": "stdout",
     "output_type": "stream",
     "text": [
      "MoviePy - Writing audio in Audio 3.mp3\n"
     ]
    },
    {
     "name": "stderr",
     "output_type": "stream",
     "text": [
      "                                                                                                                       "
     ]
    },
    {
     "name": "stdout",
     "output_type": "stream",
     "text": [
      "MoviePy - Done.\n"
     ]
    },
    {
     "name": "stderr",
     "output_type": "stream",
     "text": [
      "\r"
     ]
    }
   ],
   "source": [
    "#Extract and export the Audio\n",
    "video.audio.write_audiofile(\"Audio 3.mp3\")"
   ]
  },
  {
   "cell_type": "code",
   "execution_count": null,
   "id": "4c17b024",
   "metadata": {},
   "outputs": [],
   "source": []
  }
 ],
 "metadata": {
  "kernelspec": {
   "display_name": "Python 3 (ipykernel)",
   "language": "python",
   "name": "python3"
  },
  "language_info": {
   "codemirror_mode": {
    "name": "ipython",
    "version": 3
   },
   "file_extension": ".py",
   "mimetype": "text/x-python",
   "name": "python",
   "nbconvert_exporter": "python",
   "pygments_lexer": "ipython3",
   "version": "3.10.10"
  }
 },
 "nbformat": 4,
 "nbformat_minor": 5
}
