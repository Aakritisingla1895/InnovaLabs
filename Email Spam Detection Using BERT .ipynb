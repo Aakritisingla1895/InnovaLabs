{
 "cells": [
  {
   "cell_type": "markdown",
   "id": "713a7e62",
   "metadata": {},
   "source": [
    "## Import Libraries"
   ]
  },
  {
   "cell_type": "code",
   "execution_count": 1,
   "id": "3d43212c",
   "metadata": {},
   "outputs": [],
   "source": [
    "import tensorflow_hub as hub\n",
    "import pandas as pd\n",
    "import tensorflow_text as text\n",
    "import matplotlib.pyplot as plt\n",
    "from sklearn.model_selection import train_test_split\n",
    "import tensorflow as tf\n",
    "import numpy as np"
   ]
  },
  {
   "cell_type": "markdown",
   "id": "142e633b",
   "metadata": {},
   "source": [
    "## Read Data"
   ]
  },
  {
   "cell_type": "code",
   "execution_count": 2,
   "id": "81e84c6d",
   "metadata": {},
   "outputs": [
    {
     "data": {
      "text/html": [
       "<div>\n",
       "<style scoped>\n",
       "    .dataframe tbody tr th:only-of-type {\n",
       "        vertical-align: middle;\n",
       "    }\n",
       "\n",
       "    .dataframe tbody tr th {\n",
       "        vertical-align: top;\n",
       "    }\n",
       "\n",
       "    .dataframe thead th {\n",
       "        text-align: right;\n",
       "    }\n",
       "</style>\n",
       "<table border=\"1\" class=\"dataframe\">\n",
       "  <thead>\n",
       "    <tr style=\"text-align: right;\">\n",
       "      <th></th>\n",
       "      <th>v1</th>\n",
       "      <th>v2</th>\n",
       "      <th>Unnamed: 2</th>\n",
       "      <th>Unnamed: 3</th>\n",
       "      <th>Unnamed: 4</th>\n",
       "    </tr>\n",
       "  </thead>\n",
       "  <tbody>\n",
       "    <tr>\n",
       "      <th>0</th>\n",
       "      <td>ham</td>\n",
       "      <td>Go until jurong point, crazy.. Available only ...</td>\n",
       "      <td>NaN</td>\n",
       "      <td>NaN</td>\n",
       "      <td>NaN</td>\n",
       "    </tr>\n",
       "    <tr>\n",
       "      <th>1</th>\n",
       "      <td>ham</td>\n",
       "      <td>Ok lar... Joking wif u oni...</td>\n",
       "      <td>NaN</td>\n",
       "      <td>NaN</td>\n",
       "      <td>NaN</td>\n",
       "    </tr>\n",
       "    <tr>\n",
       "      <th>2</th>\n",
       "      <td>spam</td>\n",
       "      <td>Free entry in 2 a wkly comp to win FA Cup fina...</td>\n",
       "      <td>NaN</td>\n",
       "      <td>NaN</td>\n",
       "      <td>NaN</td>\n",
       "    </tr>\n",
       "    <tr>\n",
       "      <th>3</th>\n",
       "      <td>ham</td>\n",
       "      <td>U dun say so early hor... U c already then say...</td>\n",
       "      <td>NaN</td>\n",
       "      <td>NaN</td>\n",
       "      <td>NaN</td>\n",
       "    </tr>\n",
       "    <tr>\n",
       "      <th>4</th>\n",
       "      <td>ham</td>\n",
       "      <td>Nah I don't think he goes to usf, he lives aro...</td>\n",
       "      <td>NaN</td>\n",
       "      <td>NaN</td>\n",
       "      <td>NaN</td>\n",
       "    </tr>\n",
       "  </tbody>\n",
       "</table>\n",
       "</div>"
      ],
      "text/plain": [
       "     v1                                                 v2 Unnamed: 2  \\\n",
       "0   ham  Go until jurong point, crazy.. Available only ...        NaN   \n",
       "1   ham                      Ok lar... Joking wif u oni...        NaN   \n",
       "2  spam  Free entry in 2 a wkly comp to win FA Cup fina...        NaN   \n",
       "3   ham  U dun say so early hor... U c already then say...        NaN   \n",
       "4   ham  Nah I don't think he goes to usf, he lives aro...        NaN   \n",
       "\n",
       "  Unnamed: 3 Unnamed: 4  \n",
       "0        NaN        NaN  \n",
       "1        NaN        NaN  \n",
       "2        NaN        NaN  \n",
       "3        NaN        NaN  \n",
       "4        NaN        NaN  "
      ]
     },
     "execution_count": 2,
     "metadata": {},
     "output_type": "execute_result"
    }
   ],
   "source": [
    "# load data\n",
    "df = pd.read_csv('spam.csv', encoding = \"ISO-8859-1\")\n",
    "df.head()"
   ]
  },
  {
   "cell_type": "markdown",
   "id": "eb0f171b",
   "metadata": {},
   "source": [
    "## Exploratory Data Analysis\n"
   ]
  },
  {
   "cell_type": "code",
   "execution_count": 3,
   "id": "200d71f8",
   "metadata": {},
   "outputs": [
    {
     "data": {
      "text/plain": [
       "ham     4825\n",
       "spam     747\n",
       "Name: v1, dtype: int64"
      ]
     },
     "execution_count": 3,
     "metadata": {},
     "output_type": "execute_result"
    }
   ],
   "source": [
    "# check count and unique and top values and their frequency\n",
    "df['v1'].value_counts()"
   ]
  },
  {
   "cell_type": "markdown",
   "id": "a84915a3",
   "metadata": {},
   "source": [
    "## Downsampling Data\n",
    "\n",
    "Downsampling is a technique where the majority class is downsampled to match the minority class. Since our data has only one column(feature) it ok to use it.\n",
    "\n",
    "We perform downsampling by just picking any random 747 samples from the ham class"
   ]
  },
  {
   "cell_type": "code",
   "execution_count": 4,
   "id": "d1a2f9eb",
   "metadata": {},
   "outputs": [
    {
     "name": "stdout",
     "output_type": "stream",
     "text": [
      "0.15%\n"
     ]
    }
   ],
   "source": [
    "# check percentage of data - states how much data needs to be balanced\n",
    "print(str(round(747/4825,2))+'%')"
   ]
  },
  {
   "cell_type": "markdown",
   "id": "0247188c",
   "metadata": {},
   "source": [
    "## filtering and separation"
   ]
  },
  {
   "cell_type": "code",
   "execution_count": 5,
   "id": "df384673",
   "metadata": {},
   "outputs": [
    {
     "name": "stdout",
     "output_type": "stream",
     "text": [
      "Ham Dataset Shape: (4825, 5)\n",
      "Spam Dataset Shape: (747, 5)\n"
     ]
    }
   ],
   "source": [
    "# creating 2 new dataframe as df_ham , df_spam\n",
    "\n",
    "df_spam = df[df['v1']=='spam']\n",
    "\n",
    "df_ham = df[df['v1']=='ham']\n",
    "\n",
    "print(\"Ham Dataset Shape:\", df_ham.shape)\n",
    "\n",
    "print(\"Spam Dataset Shape:\", df_spam.shape)"
   ]
  },
  {
   "cell_type": "code",
   "execution_count": 6,
   "id": "4f89e334",
   "metadata": {},
   "outputs": [
    {
     "data": {
      "text/plain": [
       "(747, 5)"
      ]
     },
     "execution_count": 6,
     "metadata": {},
     "output_type": "execute_result"
    }
   ],
   "source": [
    "# downsampling ham dataset - take only random 747 example\n",
    "# will use df_spam.shape[0] - 747\n",
    "df_ham_downsampled = df_ham.sample(df_spam.shape[0])\n",
    "df_ham_downsampled.shape"
   ]
  },
  {
   "cell_type": "code",
   "execution_count": 7,
   "id": "9b12ca20",
   "metadata": {},
   "outputs": [],
   "source": [
    "# concating both dataset - df_spam and df_ham_balanced to create df_balanced dataset\n",
    "df_balanced = pd.concat([df_spam , df_ham_downsampled])"
   ]
  },
  {
   "cell_type": "code",
   "execution_count": 8,
   "id": "9a8faec4",
   "metadata": {},
   "outputs": [
    {
     "data": {
      "text/plain": [
       "spam    747\n",
       "ham     747\n",
       "Name: v1, dtype: int64"
      ]
     },
     "execution_count": 8,
     "metadata": {},
     "output_type": "execute_result"
    }
   ],
   "source": [
    "df_balanced['v1'].value_counts()"
   ]
  },
  {
   "cell_type": "code",
   "execution_count": 9,
   "id": "04b60764",
   "metadata": {},
   "outputs": [
    {
     "data": {
      "text/html": [
       "<div>\n",
       "<style scoped>\n",
       "    .dataframe tbody tr th:only-of-type {\n",
       "        vertical-align: middle;\n",
       "    }\n",
       "\n",
       "    .dataframe tbody tr th {\n",
       "        vertical-align: top;\n",
       "    }\n",
       "\n",
       "    .dataframe thead th {\n",
       "        text-align: right;\n",
       "    }\n",
       "</style>\n",
       "<table border=\"1\" class=\"dataframe\">\n",
       "  <thead>\n",
       "    <tr style=\"text-align: right;\">\n",
       "      <th></th>\n",
       "      <th>v1</th>\n",
       "      <th>v2</th>\n",
       "      <th>Unnamed: 2</th>\n",
       "      <th>Unnamed: 3</th>\n",
       "      <th>Unnamed: 4</th>\n",
       "    </tr>\n",
       "  </thead>\n",
       "  <tbody>\n",
       "    <tr>\n",
       "      <th>3862</th>\n",
       "      <td>spam</td>\n",
       "      <td>Oh my god! I've found your number again! I'm s...</td>\n",
       "      <td>NaN</td>\n",
       "      <td>NaN</td>\n",
       "      <td>NaN</td>\n",
       "    </tr>\n",
       "    <tr>\n",
       "      <th>3858</th>\n",
       "      <td>spam</td>\n",
       "      <td>Win the newest åÒHarry Potter and the Order of...</td>\n",
       "      <td>NaN</td>\n",
       "      <td>NaN</td>\n",
       "      <td>NaN</td>\n",
       "    </tr>\n",
       "    <tr>\n",
       "      <th>3284</th>\n",
       "      <td>ham</td>\n",
       "      <td>They are just making it easy to pay back. I ha...</td>\n",
       "      <td>NaN</td>\n",
       "      <td>NaN</td>\n",
       "      <td>NaN</td>\n",
       "    </tr>\n",
       "    <tr>\n",
       "      <th>366</th>\n",
       "      <td>spam</td>\n",
       "      <td>Update_Now - Xmas Offer! Latest Motorola, Sony...</td>\n",
       "      <td>NaN</td>\n",
       "      <td>NaN</td>\n",
       "      <td>NaN</td>\n",
       "    </tr>\n",
       "    <tr>\n",
       "      <th>5497</th>\n",
       "      <td>spam</td>\n",
       "      <td>SMS SERVICES. for your inclusive text credits,...</td>\n",
       "      <td>NaN</td>\n",
       "      <td>NaN</td>\n",
       "      <td>NaN</td>\n",
       "    </tr>\n",
       "    <tr>\n",
       "      <th>5498</th>\n",
       "      <td>ham</td>\n",
       "      <td>Why did I wake up on my own &amp;gt;:(</td>\n",
       "      <td>NaN</td>\n",
       "      <td>NaN</td>\n",
       "      <td>NaN</td>\n",
       "    </tr>\n",
       "    <tr>\n",
       "      <th>5155</th>\n",
       "      <td>ham</td>\n",
       "      <td>MY NEW YEARS EVE WAS OK. I WENT TO A PARTY WIT...</td>\n",
       "      <td>NaN</td>\n",
       "      <td>NaN</td>\n",
       "      <td>NaN</td>\n",
       "    </tr>\n",
       "    <tr>\n",
       "      <th>1520</th>\n",
       "      <td>spam</td>\n",
       "      <td>URGENT! Your Mobile No was awarded a å£2,000 B...</td>\n",
       "      <td>NaN</td>\n",
       "      <td>NaN</td>\n",
       "      <td>NaN</td>\n",
       "    </tr>\n",
       "    <tr>\n",
       "      <th>909</th>\n",
       "      <td>spam</td>\n",
       "      <td>January Male Sale! Hot Gay chat now cheaper, c...</td>\n",
       "      <td>NaN</td>\n",
       "      <td>NaN</td>\n",
       "      <td>NaN</td>\n",
       "    </tr>\n",
       "    <tr>\n",
       "      <th>3941</th>\n",
       "      <td>ham</td>\n",
       "      <td>She's borderline but yeah whatever.</td>\n",
       "      <td>NaN</td>\n",
       "      <td>NaN</td>\n",
       "      <td>NaN</td>\n",
       "    </tr>\n",
       "  </tbody>\n",
       "</table>\n",
       "</div>"
      ],
      "text/plain": [
       "        v1                                                 v2 Unnamed: 2  \\\n",
       "3862  spam  Oh my god! I've found your number again! I'm s...        NaN   \n",
       "3858  spam  Win the newest åÒHarry Potter and the Order of...        NaN   \n",
       "3284   ham  They are just making it easy to pay back. I ha...        NaN   \n",
       "366   spam  Update_Now - Xmas Offer! Latest Motorola, Sony...        NaN   \n",
       "5497  spam  SMS SERVICES. for your inclusive text credits,...        NaN   \n",
       "5498   ham                 Why did I wake up on my own &gt;:(        NaN   \n",
       "5155   ham  MY NEW YEARS EVE WAS OK. I WENT TO A PARTY WIT...        NaN   \n",
       "1520  spam  URGENT! Your Mobile No was awarded a å£2,000 B...        NaN   \n",
       "909   spam  January Male Sale! Hot Gay chat now cheaper, c...        NaN   \n",
       "3941   ham                She's borderline but yeah whatever.        NaN   \n",
       "\n",
       "     Unnamed: 3 Unnamed: 4  \n",
       "3862        NaN        NaN  \n",
       "3858        NaN        NaN  \n",
       "3284        NaN        NaN  \n",
       "366         NaN        NaN  \n",
       "5497        NaN        NaN  \n",
       "5498        NaN        NaN  \n",
       "5155        NaN        NaN  \n",
       "1520        NaN        NaN  \n",
       "909         NaN        NaN  \n",
       "3941        NaN        NaN  "
      ]
     },
     "execution_count": 9,
     "metadata": {},
     "output_type": "execute_result"
    }
   ],
   "source": [
    "df_balanced.sample(10)"
   ]
  },
  {
   "cell_type": "markdown",
   "id": "3bbd990f",
   "metadata": {},
   "source": [
    "## Preprocessing of Spam Detection Data"
   ]
  },
  {
   "cell_type": "code",
   "execution_count": 10,
   "id": "f013cf35",
   "metadata": {},
   "outputs": [],
   "source": [
    "# creating numerical repersentation of category - one hot encoding\n",
    "df_balanced['spam'] = df_balanced['v1'].apply(lambda x:1 if x=='spam' else 0)"
   ]
  },
  {
   "cell_type": "code",
   "execution_count": 11,
   "id": "984f6bcc",
   "metadata": {},
   "outputs": [
    {
     "data": {
      "text/html": [
       "<div>\n",
       "<style scoped>\n",
       "    .dataframe tbody tr th:only-of-type {\n",
       "        vertical-align: middle;\n",
       "    }\n",
       "\n",
       "    .dataframe tbody tr th {\n",
       "        vertical-align: top;\n",
       "    }\n",
       "\n",
       "    .dataframe thead th {\n",
       "        text-align: right;\n",
       "    }\n",
       "</style>\n",
       "<table border=\"1\" class=\"dataframe\">\n",
       "  <thead>\n",
       "    <tr style=\"text-align: right;\">\n",
       "      <th></th>\n",
       "      <th>v1</th>\n",
       "      <th>v2</th>\n",
       "      <th>Unnamed: 2</th>\n",
       "      <th>Unnamed: 3</th>\n",
       "      <th>Unnamed: 4</th>\n",
       "      <th>spam</th>\n",
       "    </tr>\n",
       "  </thead>\n",
       "  <tbody>\n",
       "    <tr>\n",
       "      <th>11</th>\n",
       "      <td>spam</td>\n",
       "      <td>SIX chances to win CASH! From 100 to 20,000 po...</td>\n",
       "      <td>NaN</td>\n",
       "      <td>NaN</td>\n",
       "      <td>NaN</td>\n",
       "      <td>1</td>\n",
       "    </tr>\n",
       "    <tr>\n",
       "      <th>1904</th>\n",
       "      <td>ham</td>\n",
       "      <td>Wah... Okie okie... Muz make use of e unlimite...</td>\n",
       "      <td>NaN</td>\n",
       "      <td>NaN</td>\n",
       "      <td>NaN</td>\n",
       "      <td>0</td>\n",
       "    </tr>\n",
       "    <tr>\n",
       "      <th>3787</th>\n",
       "      <td>spam</td>\n",
       "      <td>Want to funk up ur fone with a weekly new tone...</td>\n",
       "      <td>NaN</td>\n",
       "      <td>NaN</td>\n",
       "      <td>NaN</td>\n",
       "      <td>1</td>\n",
       "    </tr>\n",
       "    <tr>\n",
       "      <th>566</th>\n",
       "      <td>ham</td>\n",
       "      <td>Oooh bed ridden ey? What are YOU thinking of?</td>\n",
       "      <td>NaN</td>\n",
       "      <td>NaN</td>\n",
       "      <td>NaN</td>\n",
       "      <td>0</td>\n",
       "    </tr>\n",
       "  </tbody>\n",
       "</table>\n",
       "</div>"
      ],
      "text/plain": [
       "        v1                                                 v2 Unnamed: 2  \\\n",
       "11    spam  SIX chances to win CASH! From 100 to 20,000 po...        NaN   \n",
       "1904   ham  Wah... Okie okie... Muz make use of e unlimite...        NaN   \n",
       "3787  spam  Want to funk up ur fone with a weekly new tone...        NaN   \n",
       "566    ham      Oooh bed ridden ey? What are YOU thinking of?        NaN   \n",
       "\n",
       "     Unnamed: 3 Unnamed: 4  spam  \n",
       "11          NaN        NaN     1  \n",
       "1904        NaN        NaN     0  \n",
       "3787        NaN        NaN     1  \n",
       "566         NaN        NaN     0  "
      ]
     },
     "execution_count": 11,
     "metadata": {},
     "output_type": "execute_result"
    }
   ],
   "source": [
    "# displaying data - spam -1 , ham-0\n",
    "df_balanced.sample(4)"
   ]
  },
  {
   "cell_type": "markdown",
   "id": "d8a09101",
   "metadata": {},
   "source": [
    "## Performing Train Test Split"
   ]
  },
  {
   "cell_type": "code",
   "execution_count": 12,
   "id": "81d70858",
   "metadata": {},
   "outputs": [],
   "source": [
    "# loading train test split\n",
    "from sklearn.model_selection import train_test_split\n",
    "X_train, X_test , y_train, y_test = train_test_split(df_balanced['v2'], df_balanced['spam'],\n",
    "                                                    stratify = df_balanced['spam'])"
   ]
  },
  {
   "cell_type": "markdown",
   "id": "5839d688",
   "metadata": {},
   "source": [
    "## Model Creation"
   ]
  },
  {
   "cell_type": "markdown",
   "id": "fe71f47e",
   "metadata": {},
   "source": [
    "## Downloading Prerequisites"
   ]
  },
  {
   "cell_type": "code",
   "execution_count": 13,
   "id": "b4410a54",
   "metadata": {},
   "outputs": [],
   "source": [
    "# downloading preprocessing files and model\n",
    "bert_preprocessor = hub.KerasLayer('https://tfhub.dev/tensorflow/bert_en_uncased_preprocess/3')\n",
    "bert_encoder = hub.KerasLayer('https://tfhub.dev/tensorflow/bert_en_uncased_L-12_H-768_A-12/4')"
   ]
  },
  {
   "cell_type": "markdown",
   "id": "86480582",
   "metadata": {},
   "source": [
    "## Creating Model\n",
    "\n",
    "Having downloaded the bert model, we can now use Keras Functional API to build our model."
   ]
  },
  {
   "cell_type": "code",
   "execution_count": 14,
   "id": "c893bf13",
   "metadata": {},
   "outputs": [],
   "source": [
    "text_input = tf.keras.layers.Input(shape = (), dtype = tf.string, name = 'Inputs')\n",
    "preprocessed_text = bert_preprocessor(text_input)\n",
    "embeed = bert_encoder(preprocessed_text)\n",
    "dropout = tf.keras.layers.Dropout(0.1, name = 'Dropout')(embeed['pooled_output'])\n",
    "outputs = tf.keras.layers.Dense(1, activation = 'sigmoid', name = 'Dense')(dropout)\n",
    "# creating final model\n",
    "model = tf.keras.Model(inputs = [text_input], outputs = [outputs])"
   ]
  },
  {
   "cell_type": "code",
   "execution_count": 15,
   "id": "a661ed4f",
   "metadata": {},
   "outputs": [
    {
     "name": "stdout",
     "output_type": "stream",
     "text": [
      "Model: \"model\"\n",
      "__________________________________________________________________________________________________\n",
      " Layer (type)                   Output Shape         Param #     Connected to                     \n",
      "==================================================================================================\n",
      " Inputs (InputLayer)            [(None,)]            0           []                               \n",
      "                                                                                                  \n",
      " keras_layer (KerasLayer)       {'input_type_ids':   0           ['Inputs[0][0]']                 \n",
      "                                (None, 128),                                                      \n",
      "                                 'input_word_ids':                                                \n",
      "                                (None, 128),                                                      \n",
      "                                 'input_mask': (Non                                               \n",
      "                                e, 128)}                                                          \n",
      "                                                                                                  \n",
      " keras_layer_1 (KerasLayer)     {'default': (None,   109482241   ['keras_layer[0][0]',            \n",
      "                                768),                             'keras_layer[0][1]',            \n",
      "                                 'encoder_outputs':               'keras_layer[0][2]']            \n",
      "                                 [(None, 128, 768),                                               \n",
      "                                 (None, 128, 768),                                                \n",
      "                                 (None, 128, 768),                                                \n",
      "                                 (None, 128, 768),                                                \n",
      "                                 (None, 128, 768),                                                \n",
      "                                 (None, 128, 768),                                                \n",
      "                                 (None, 128, 768),                                                \n",
      "                                 (None, 128, 768),                                                \n",
      "                                 (None, 128, 768),                                                \n",
      "                                 (None, 128, 768),                                                \n",
      "                                 (None, 128, 768),                                                \n",
      "                                 (None, 128, 768)],                                               \n",
      "                                 'sequence_output':                                               \n",
      "                                 (None, 128, 768),                                                \n",
      "                                 'pooled_output': (                                               \n",
      "                                None, 768)}                                                       \n",
      "                                                                                                  \n",
      " Dropout (Dropout)              (None, 768)          0           ['keras_layer_1[0][13]']         \n",
      "                                                                                                  \n",
      " Dense (Dense)                  (None, 1)            769         ['Dropout[0][0]']                \n",
      "                                                                                                  \n",
      "==================================================================================================\n",
      "Total params: 109,483,010\n",
      "Trainable params: 769\n",
      "Non-trainable params: 109,482,241\n",
      "__________________________________________________________________________________________________\n"
     ]
    }
   ],
   "source": [
    "# check the summary of the model\n",
    "model.summary()"
   ]
  },
  {
   "cell_type": "markdown",
   "id": "c6fd4585",
   "metadata": {},
   "source": [
    "## Compiling And Training Model"
   ]
  },
  {
   "cell_type": "code",
   "execution_count": 16,
   "id": "5311c3aa",
   "metadata": {},
   "outputs": [],
   "source": [
    "Metrics = [tf.keras.metrics.BinaryAccuracy(name = 'accuracy'),\n",
    "           tf.keras.metrics.Precision(name = 'precision'),\n",
    "           tf.keras.metrics.Recall(name = 'recall')\n",
    "           ]\n",
    "# compiling our model\n",
    "model.compile(optimizer ='adam',\n",
    "               loss = 'binary_crossentropy',\n",
    "               metrics = Metrics)"
   ]
  },
  {
   "cell_type": "code",
   "execution_count": 17,
   "id": "abeae3f6",
   "metadata": {},
   "outputs": [
    {
     "name": "stdout",
     "output_type": "stream",
     "text": [
      "Epoch 1/10\n",
      "35/35 [==============================] - 148s 4s/step - loss: 0.6761 - accuracy: 0.5795 - precision: 0.5817 - recall: 0.5661\n",
      "Epoch 2/10\n",
      "35/35 [==============================] - 134s 4s/step - loss: 0.5342 - accuracy: 0.7973 - precision: 0.7780 - recall: 0.8321\n",
      "Epoch 3/10\n",
      "35/35 [==============================] - 132s 4s/step - loss: 0.4597 - accuracy: 0.8429 - precision: 0.8276 - recall: 0.8661\n",
      "Epoch 4/10\n",
      "35/35 [==============================] - 120s 3s/step - loss: 0.4166 - accuracy: 0.8607 - precision: 0.8447 - recall: 0.8839\n",
      "Epoch 5/10\n",
      "35/35 [==============================] - 120s 3s/step - loss: 0.3808 - accuracy: 0.8786 - precision: 0.8569 - recall: 0.9089\n",
      "Epoch 6/10\n",
      "35/35 [==============================] - 116s 3s/step - loss: 0.3513 - accuracy: 0.8866 - precision: 0.8805 - recall: 0.8946\n",
      "Epoch 7/10\n",
      "35/35 [==============================] - 116s 3s/step - loss: 0.3339 - accuracy: 0.8902 - precision: 0.8827 - recall: 0.9000\n",
      "Epoch 8/10\n",
      "35/35 [==============================] - 116s 3s/step - loss: 0.3183 - accuracy: 0.9000 - precision: 0.8902 - recall: 0.9125\n",
      "Epoch 9/10\n",
      "35/35 [==============================] - 119s 3s/step - loss: 0.3072 - accuracy: 0.9036 - precision: 0.8924 - recall: 0.9179\n",
      "Epoch 10/10\n",
      "35/35 [==============================] - 116s 3s/step - loss: 0.2948 - accuracy: 0.9080 - precision: 0.9016 - recall: 0.9161\n"
     ]
    }
   ],
   "source": [
    "history = model.fit(X_train, y_train, epochs = 10)"
   ]
  },
  {
   "cell_type": "markdown",
   "id": "9315f953",
   "metadata": {},
   "source": [
    "## Model Evaluation"
   ]
  },
  {
   "cell_type": "code",
   "execution_count": 18,
   "id": "409c21d1",
   "metadata": {},
   "outputs": [
    {
     "name": "stdout",
     "output_type": "stream",
     "text": [
      "12/12 [==============================] - 42s 3s/step - loss: 0.2695 - accuracy: 0.9225 - precision: 0.9489 - recall: 0.8930\n"
     ]
    },
    {
     "data": {
      "text/plain": [
       "[0.26949289441108704,\n",
       " 0.9224599003791809,\n",
       " 0.9488636255264282,\n",
       " 0.893048107624054]"
      ]
     },
     "execution_count": 18,
     "metadata": {},
     "output_type": "execute_result"
    }
   ],
   "source": [
    "# Evaluating performance\n",
    "model.evaluate(X_test,y_test)"
   ]
  },
  {
   "cell_type": "markdown",
   "id": "f5071225",
   "metadata": {},
   "source": [
    "## Model Prediction for Spam Detection with some random data"
   ]
  },
  {
   "cell_type": "code",
   "execution_count": 25,
   "id": "05f2c1f6",
   "metadata": {},
   "outputs": [],
   "source": [
    "predict_text = ['We’d all like to get a $10,000 deposit on our bank accounts out of the blue, but winning a prize—especially if you’ve never entered a contest', \n",
    "                'Netflix is sending you a refund of $12.99. Please reply with your bank account and routing number to verify and get your refund', \n",
    "                'Your account is temporarily frozen. Please log in to to secure your account ',\n",
    "                'The article was published on 18th August itself',\n",
    "                'Although we are unable to give you an exact time-frame at the moment, I would request you to stay tuned for any updates.',\n",
    "                'The image you sent is a UI bug, I can check that your article is marked as regular and is not in the monetization program.'\n",
    "]"
   ]
  },
  {
   "cell_type": "code",
   "execution_count": 33,
   "id": "25649c42",
   "metadata": {},
   "outputs": [
    {
     "name": "stdout",
     "output_type": "stream",
     "text": [
      "1/1 [==============================] - 1s 889ms/step\n"
     ]
    }
   ],
   "source": [
    "test_results = model.predict(predict_text)\n",
    "output = np.where(test_results<0.5,'spam', 'ham')"
   ]
  },
  {
   "cell_type": "code",
   "execution_count": 34,
   "id": "6f0497d1",
   "metadata": {},
   "outputs": [
    {
     "data": {
      "text/plain": [
       "array([['spam'],\n",
       "       ['ham'],\n",
       "       ['ham'],\n",
       "       ['spam'],\n",
       "       ['spam'],\n",
       "       ['ham']], dtype='<U4')"
      ]
     },
     "execution_count": 34,
     "metadata": {},
     "output_type": "execute_result"
    }
   ],
   "source": [
    "output"
   ]
  },
  {
   "cell_type": "code",
   "execution_count": null,
   "id": "84c7ef2f",
   "metadata": {},
   "outputs": [],
   "source": []
  },
  {
   "cell_type": "code",
   "execution_count": null,
   "id": "31a0aa3f",
   "metadata": {},
   "outputs": [],
   "source": []
  }
 ],
 "metadata": {
  "kernelspec": {
   "display_name": "Python 3 (ipykernel)",
   "language": "python",
   "name": "python3"
  },
  "language_info": {
   "codemirror_mode": {
    "name": "ipython",
    "version": 3
   },
   "file_extension": ".py",
   "mimetype": "text/x-python",
   "name": "python",
   "nbconvert_exporter": "python",
   "pygments_lexer": "ipython3",
   "version": "3.10.10"
  }
 },
 "nbformat": 4,
 "nbformat_minor": 5
}
